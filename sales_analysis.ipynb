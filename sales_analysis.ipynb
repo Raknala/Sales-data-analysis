{
 "cells": [
  {
   "cell_type": "markdown",
   "id": "domestic-period",
   "metadata": {},
   "source": [
    "### Importing necessary libraries"
   ]
  },
  {
   "cell_type": "code",
   "execution_count": 7,
   "id": "available-dairy",
   "metadata": {},
   "outputs": [],
   "source": [
    "import pandas as pd\n",
    "import os"
   ]
  },
  {
   "cell_type": "markdown",
   "id": "located-efficiency",
   "metadata": {},
   "source": [
    "### Importing all the files from Sales_Data folder using os.listdir"
   ]
  },
  {
   "cell_type": "code",
   "execution_count": 8,
   "id": "distinguished-denial",
   "metadata": {},
   "outputs": [],
   "source": [
    "files = [file for file in os.listdir('./Sales_Data')]"
   ]
  },
  {
   "cell_type": "code",
   "execution_count": 12,
   "id": "institutional-fantasy",
   "metadata": {},
   "outputs": [
    {
     "name": "stdout",
     "output_type": "stream",
     "text": [
      "Sales_April_2019.csv\n",
      "Sales_August_2019.csv\n",
      "Sales_December_2019.csv\n",
      "Sales_February_2019.csv\n",
      "Sales_January_2019.csv\n",
      "Sales_July_2019.csv\n",
      "Sales_June_2019.csv\n",
      "Sales_March_2019.csv\n",
      "Sales_May_2019.csv\n",
      "Sales_November_2019.csv\n",
      "Sales_October_2019.csv\n",
      "Sales_September_2019.csv\n"
     ]
    }
   ],
   "source": [
    "for file in files:\n",
    "    print(file)"
   ]
  },
  {
   "cell_type": "markdown",
   "id": "induced-virginia",
   "metadata": {},
   "source": [
    "Above listed files are all the csv files in Sales_Data."
   ]
  },
  {
   "cell_type": "markdown",
   "id": "suburban-yukon",
   "metadata": {},
   "source": [
    "### create an empty dataframe to store all the files after merging them into one single file"
   ]
  },
  {
   "cell_type": "code",
   "execution_count": 18,
   "id": "dirty-oliver",
   "metadata": {},
   "outputs": [],
   "source": [
    "all_months_data = pd.DataFrame()"
   ]
  },
  {
   "cell_type": "code",
   "execution_count": 19,
   "id": "complimentary-profession",
   "metadata": {},
   "outputs": [
    {
     "data": {
      "text/plain": [
       "pandas.core.frame.DataFrame"
      ]
     },
     "execution_count": 19,
     "metadata": {},
     "output_type": "execute_result"
    }
   ],
   "source": [
    "type(all_months_data)"
   ]
  },
  {
   "cell_type": "code",
   "execution_count": 21,
   "id": "chubby-renewal",
   "metadata": {},
   "outputs": [],
   "source": [
    "for file in files:\n",
    "    df=pd.read_csv('./Sales_data/'+file)\n",
    "    all_months_data=pd.concat([all_months_data , df])"
   ]
  },
  {
   "cell_type": "code",
   "execution_count": 22,
   "id": "frank-annual",
   "metadata": {},
   "outputs": [
    {
     "data": {
      "text/html": [
       "<div>\n",
       "<style scoped>\n",
       "    .dataframe tbody tr th:only-of-type {\n",
       "        vertical-align: middle;\n",
       "    }\n",
       "\n",
       "    .dataframe tbody tr th {\n",
       "        vertical-align: top;\n",
       "    }\n",
       "\n",
       "    .dataframe thead th {\n",
       "        text-align: right;\n",
       "    }\n",
       "</style>\n",
       "<table border=\"1\" class=\"dataframe\">\n",
       "  <thead>\n",
       "    <tr style=\"text-align: right;\">\n",
       "      <th></th>\n",
       "      <th>Order ID</th>\n",
       "      <th>Product</th>\n",
       "      <th>Quantity Ordered</th>\n",
       "      <th>Price Each</th>\n",
       "      <th>Order Date</th>\n",
       "      <th>Purchase Address</th>\n",
       "    </tr>\n",
       "  </thead>\n",
       "  <tbody>\n",
       "    <tr>\n",
       "      <th>13394</th>\n",
       "      <td>308445</td>\n",
       "      <td>AAA Batteries (4-pack)</td>\n",
       "      <td>1</td>\n",
       "      <td>2.99</td>\n",
       "      <td>12/19/19 16:45</td>\n",
       "      <td>145 Church St, Seattle, WA 98101</td>\n",
       "    </tr>\n",
       "    <tr>\n",
       "      <th>2553</th>\n",
       "      <td>298094</td>\n",
       "      <td>AAA Batteries (4-pack)</td>\n",
       "      <td>1</td>\n",
       "      <td>2.99</td>\n",
       "      <td>12/30/19 05:58</td>\n",
       "      <td>779 Elm St, Austin, TX 73301</td>\n",
       "    </tr>\n",
       "    <tr>\n",
       "      <th>3043</th>\n",
       "      <td>239590</td>\n",
       "      <td>AAA Batteries (4-pack)</td>\n",
       "      <td>1</td>\n",
       "      <td>2.99</td>\n",
       "      <td>08/15/19 19:13</td>\n",
       "      <td>713 North St, New York City, NY 10001</td>\n",
       "    </tr>\n",
       "    <tr>\n",
       "      <th>4668</th>\n",
       "      <td>252629</td>\n",
       "      <td>AA Batteries (4-pack)</td>\n",
       "      <td>1</td>\n",
       "      <td>3.84</td>\n",
       "      <td>09/20/19 13:10</td>\n",
       "      <td>222 Lakeview St, San Francisco, CA 94016</td>\n",
       "    </tr>\n",
       "    <tr>\n",
       "      <th>9961</th>\n",
       "      <td>160021</td>\n",
       "      <td>iPhone</td>\n",
       "      <td>1</td>\n",
       "      <td>700</td>\n",
       "      <td>02/19/19 18:36</td>\n",
       "      <td>722 Center St, Seattle, WA 98101</td>\n",
       "    </tr>\n",
       "    <tr>\n",
       "      <th>6189</th>\n",
       "      <td>156398</td>\n",
       "      <td>Wired Headphones</td>\n",
       "      <td>1</td>\n",
       "      <td>11.99</td>\n",
       "      <td>02/22/19 10:02</td>\n",
       "      <td>568 4th St, Los Angeles, CA 90001</td>\n",
       "    </tr>\n",
       "    <tr>\n",
       "      <th>6674</th>\n",
       "      <td>182928</td>\n",
       "      <td>Lightning Charging Cable</td>\n",
       "      <td>1</td>\n",
       "      <td>14.95</td>\n",
       "      <td>04/25/19 11:41</td>\n",
       "      <td>364 1st St, Los Angeles, CA 90001</td>\n",
       "    </tr>\n",
       "    <tr>\n",
       "      <th>11484</th>\n",
       "      <td>161481</td>\n",
       "      <td>AAA Batteries (4-pack)</td>\n",
       "      <td>1</td>\n",
       "      <td>2.99</td>\n",
       "      <td>02/28/19 13:17</td>\n",
       "      <td>787 Jefferson St, Los Angeles, CA 90001</td>\n",
       "    </tr>\n",
       "    <tr>\n",
       "      <th>5464</th>\n",
       "      <td>199289</td>\n",
       "      <td>Lightning Charging Cable</td>\n",
       "      <td>2</td>\n",
       "      <td>14.95</td>\n",
       "      <td>05/04/19 07:59</td>\n",
       "      <td>425 Hickory St, New York City, NY 10001</td>\n",
       "    </tr>\n",
       "    <tr>\n",
       "      <th>6478</th>\n",
       "      <td>254361</td>\n",
       "      <td>20in Monitor</td>\n",
       "      <td>1</td>\n",
       "      <td>109.99</td>\n",
       "      <td>09/21/19 18:16</td>\n",
       "      <td>668 Main St, San Francisco, CA 94016</td>\n",
       "    </tr>\n",
       "  </tbody>\n",
       "</table>\n",
       "</div>"
      ],
      "text/plain": [
       "      Order ID                   Product Quantity Ordered Price Each  \\\n",
       "13394   308445    AAA Batteries (4-pack)                1       2.99   \n",
       "2553    298094    AAA Batteries (4-pack)                1       2.99   \n",
       "3043    239590    AAA Batteries (4-pack)                1       2.99   \n",
       "4668    252629     AA Batteries (4-pack)                1       3.84   \n",
       "9961    160021                    iPhone                1        700   \n",
       "6189    156398          Wired Headphones                1      11.99   \n",
       "6674    182928  Lightning Charging Cable                1      14.95   \n",
       "11484   161481    AAA Batteries (4-pack)                1       2.99   \n",
       "5464    199289  Lightning Charging Cable                2      14.95   \n",
       "6478    254361              20in Monitor                1     109.99   \n",
       "\n",
       "           Order Date                          Purchase Address  \n",
       "13394  12/19/19 16:45          145 Church St, Seattle, WA 98101  \n",
       "2553   12/30/19 05:58              779 Elm St, Austin, TX 73301  \n",
       "3043   08/15/19 19:13     713 North St, New York City, NY 10001  \n",
       "4668   09/20/19 13:10  222 Lakeview St, San Francisco, CA 94016  \n",
       "9961   02/19/19 18:36          722 Center St, Seattle, WA 98101  \n",
       "6189   02/22/19 10:02         568 4th St, Los Angeles, CA 90001  \n",
       "6674   04/25/19 11:41         364 1st St, Los Angeles, CA 90001  \n",
       "11484  02/28/19 13:17   787 Jefferson St, Los Angeles, CA 90001  \n",
       "5464   05/04/19 07:59   425 Hickory St, New York City, NY 10001  \n",
       "6478   09/21/19 18:16      668 Main St, San Francisco, CA 94016  "
      ]
     },
     "execution_count": 22,
     "metadata": {},
     "output_type": "execute_result"
    }
   ],
   "source": [
    "all_months_data.sample(10)"
   ]
  },
  {
   "cell_type": "markdown",
   "id": "loose-status",
   "metadata": {},
   "source": [
    "Now, we can see we have sample data from different months."
   ]
  },
  {
   "cell_type": "markdown",
   "id": "auburn-timing",
   "metadata": {},
   "source": [
    "Let's save this merged file as a csv file."
   ]
  },
  {
   "cell_type": "code",
   "execution_count": 23,
   "id": "bulgarian-understanding",
   "metadata": {},
   "outputs": [],
   "source": [
    "all_months_data.to_csv('all_data.csv',index=False)"
   ]
  },
  {
   "cell_type": "markdown",
   "id": "indonesian-accused",
   "metadata": {},
   "source": [
    "Now , the merged file is saved as 'all_data.csv' in the same folder as this python file ."
   ]
  },
  {
   "cell_type": "markdown",
   "id": "apart-interpretation",
   "metadata": {},
   "source": [
    "### Reading updated dataframe"
   ]
  },
  {
   "cell_type": "code",
   "execution_count": 24,
   "id": "reserved-league",
   "metadata": {},
   "outputs": [],
   "source": [
    "all_data = pd.read_csv('all_data.csv')"
   ]
  },
  {
   "cell_type": "code",
   "execution_count": 25,
   "id": "backed-venice",
   "metadata": {},
   "outputs": [
    {
     "data": {
      "text/html": [
       "<div>\n",
       "<style scoped>\n",
       "    .dataframe tbody tr th:only-of-type {\n",
       "        vertical-align: middle;\n",
       "    }\n",
       "\n",
       "    .dataframe tbody tr th {\n",
       "        vertical-align: top;\n",
       "    }\n",
       "\n",
       "    .dataframe thead th {\n",
       "        text-align: right;\n",
       "    }\n",
       "</style>\n",
       "<table border=\"1\" class=\"dataframe\">\n",
       "  <thead>\n",
       "    <tr style=\"text-align: right;\">\n",
       "      <th></th>\n",
       "      <th>Order ID</th>\n",
       "      <th>Product</th>\n",
       "      <th>Quantity Ordered</th>\n",
       "      <th>Price Each</th>\n",
       "      <th>Order Date</th>\n",
       "      <th>Purchase Address</th>\n",
       "    </tr>\n",
       "  </thead>\n",
       "  <tbody>\n",
       "    <tr>\n",
       "      <th>0</th>\n",
       "      <td>176558</td>\n",
       "      <td>USB-C Charging Cable</td>\n",
       "      <td>2</td>\n",
       "      <td>11.95</td>\n",
       "      <td>04/19/19 08:46</td>\n",
       "      <td>917 1st St, Dallas, TX 75001</td>\n",
       "    </tr>\n",
       "    <tr>\n",
       "      <th>1</th>\n",
       "      <td>NaN</td>\n",
       "      <td>NaN</td>\n",
       "      <td>NaN</td>\n",
       "      <td>NaN</td>\n",
       "      <td>NaN</td>\n",
       "      <td>NaN</td>\n",
       "    </tr>\n",
       "    <tr>\n",
       "      <th>2</th>\n",
       "      <td>176559</td>\n",
       "      <td>Bose SoundSport Headphones</td>\n",
       "      <td>1</td>\n",
       "      <td>99.99</td>\n",
       "      <td>04/07/19 22:30</td>\n",
       "      <td>682 Chestnut St, Boston, MA 02215</td>\n",
       "    </tr>\n",
       "    <tr>\n",
       "      <th>3</th>\n",
       "      <td>176560</td>\n",
       "      <td>Google Phone</td>\n",
       "      <td>1</td>\n",
       "      <td>600</td>\n",
       "      <td>04/12/19 14:38</td>\n",
       "      <td>669 Spruce St, Los Angeles, CA 90001</td>\n",
       "    </tr>\n",
       "    <tr>\n",
       "      <th>4</th>\n",
       "      <td>176560</td>\n",
       "      <td>Wired Headphones</td>\n",
       "      <td>1</td>\n",
       "      <td>11.99</td>\n",
       "      <td>04/12/19 14:38</td>\n",
       "      <td>669 Spruce St, Los Angeles, CA 90001</td>\n",
       "    </tr>\n",
       "  </tbody>\n",
       "</table>\n",
       "</div>"
      ],
      "text/plain": [
       "  Order ID                     Product Quantity Ordered Price Each  \\\n",
       "0   176558        USB-C Charging Cable                2      11.95   \n",
       "1      NaN                         NaN              NaN        NaN   \n",
       "2   176559  Bose SoundSport Headphones                1      99.99   \n",
       "3   176560                Google Phone                1        600   \n",
       "4   176560            Wired Headphones                1      11.99   \n",
       "\n",
       "       Order Date                      Purchase Address  \n",
       "0  04/19/19 08:46          917 1st St, Dallas, TX 75001  \n",
       "1             NaN                                   NaN  \n",
       "2  04/07/19 22:30     682 Chestnut St, Boston, MA 02215  \n",
       "3  04/12/19 14:38  669 Spruce St, Los Angeles, CA 90001  \n",
       "4  04/12/19 14:38  669 Spruce St, Los Angeles, CA 90001  "
      ]
     },
     "execution_count": 25,
     "metadata": {},
     "output_type": "execute_result"
    }
   ],
   "source": [
    "all_data.head()"
   ]
  },
  {
   "cell_type": "code",
   "execution_count": null,
   "id": "reflected-moderator",
   "metadata": {},
   "outputs": [],
   "source": []
  }
 ],
 "metadata": {
  "kernelspec": {
   "display_name": "Python 3",
   "language": "python",
   "name": "python3"
  },
  "language_info": {
   "codemirror_mode": {
    "name": "ipython",
    "version": 3
   },
   "file_extension": ".py",
   "mimetype": "text/x-python",
   "name": "python",
   "nbconvert_exporter": "python",
   "pygments_lexer": "ipython3",
   "version": "3.9.1"
  }
 },
 "nbformat": 4,
 "nbformat_minor": 5
}
